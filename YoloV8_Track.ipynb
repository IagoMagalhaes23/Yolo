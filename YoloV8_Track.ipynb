{
  "cells": [
    {
      "cell_type": "markdown",
      "metadata": {
        "id": "view-in-github",
        "colab_type": "text"
      },
      "source": [
        "<a href=\"https://colab.research.google.com/github/IagoMagalhaes23/Yolo/blob/main/YoloV8_Track.ipynb\" target=\"_parent\"><img src=\"https://colab.research.google.com/assets/colab-badge.svg\" alt=\"Open In Colab\"/></a>"
      ]
    },
    {
      "cell_type": "code",
      "execution_count": null,
      "metadata": {
        "colab": {
          "base_uri": "https://localhost:8080/"
        },
        "id": "HxTy89eFxO9R",
        "outputId": "cf3319dd-4c3e-48fb-b43d-2f6f164581fd"
      },
      "outputs": [
        {
          "name": "stdout",
          "output_type": "stream",
          "text": [
            "Looking in indexes: https://pypi.org/simple, https://us-python.pkg.dev/colab-wheels/public/simple/\n",
            "Collecting ultralytics\n",
            "  Downloading ultralytics-8.0.109-py3-none-any.whl (591 kB)\n",
            "\u001b[2K     \u001b[90m━━━━━━━━━━━━━━━━━━━━━━━━━━━━━━━━━━━━━━\u001b[0m \u001b[32m591.4/591.4 kB\u001b[0m \u001b[31m33.6 MB/s\u001b[0m eta \u001b[36m0:00:00\u001b[0m\n",
            "\u001b[?25hRequirement already satisfied: matplotlib>=3.2.2 in /usr/local/lib/python3.10/dist-packages (from ultralytics) (3.7.1)\n",
            "Requirement already satisfied: opencv-python>=4.6.0 in /usr/local/lib/python3.10/dist-packages (from ultralytics) (4.7.0.72)\n",
            "Requirement already satisfied: Pillow>=7.1.2 in /usr/local/lib/python3.10/dist-packages (from ultralytics) (8.4.0)\n",
            "Requirement already satisfied: PyYAML>=5.3.1 in /usr/local/lib/python3.10/dist-packages (from ultralytics) (6.0)\n",
            "Requirement already satisfied: requests>=2.23.0 in /usr/local/lib/python3.10/dist-packages (from ultralytics) (2.27.1)\n",
            "Requirement already satisfied: scipy>=1.4.1 in /usr/local/lib/python3.10/dist-packages (from ultralytics) (1.10.1)\n",
            "Requirement already satisfied: torch>=1.7.0 in /usr/local/lib/python3.10/dist-packages (from ultralytics) (2.0.1+cu118)\n",
            "Requirement already satisfied: torchvision>=0.8.1 in /usr/local/lib/python3.10/dist-packages (from ultralytics) (0.15.2+cu118)\n",
            "Requirement already satisfied: tqdm>=4.64.0 in /usr/local/lib/python3.10/dist-packages (from ultralytics) (4.65.0)\n",
            "Requirement already satisfied: pandas>=1.1.4 in /usr/local/lib/python3.10/dist-packages (from ultralytics) (1.5.3)\n",
            "Requirement already satisfied: seaborn>=0.11.0 in /usr/local/lib/python3.10/dist-packages (from ultralytics) (0.12.2)\n",
            "Requirement already satisfied: psutil in /usr/local/lib/python3.10/dist-packages (from ultralytics) (5.9.5)\n",
            "Collecting sentry-sdk (from ultralytics)\n",
            "  Downloading sentry_sdk-1.24.0-py2.py3-none-any.whl (206 kB)\n",
            "\u001b[2K     \u001b[90m━━━━━━━━━━━━━━━━━━━━━━━━━━━━━━━━━━━━━━\u001b[0m \u001b[32m206.5/206.5 kB\u001b[0m \u001b[31m26.9 MB/s\u001b[0m eta \u001b[36m0:00:00\u001b[0m\n",
            "\u001b[?25hRequirement already satisfied: contourpy>=1.0.1 in /usr/local/lib/python3.10/dist-packages (from matplotlib>=3.2.2->ultralytics) (1.0.7)\n",
            "Requirement already satisfied: cycler>=0.10 in /usr/local/lib/python3.10/dist-packages (from matplotlib>=3.2.2->ultralytics) (0.11.0)\n",
            "Requirement already satisfied: fonttools>=4.22.0 in /usr/local/lib/python3.10/dist-packages (from matplotlib>=3.2.2->ultralytics) (4.39.3)\n",
            "Requirement already satisfied: kiwisolver>=1.0.1 in /usr/local/lib/python3.10/dist-packages (from matplotlib>=3.2.2->ultralytics) (1.4.4)\n",
            "Requirement already satisfied: numpy>=1.20 in /usr/local/lib/python3.10/dist-packages (from matplotlib>=3.2.2->ultralytics) (1.22.4)\n",
            "Requirement already satisfied: packaging>=20.0 in /usr/local/lib/python3.10/dist-packages (from matplotlib>=3.2.2->ultralytics) (23.1)\n",
            "Requirement already satisfied: pyparsing>=2.3.1 in /usr/local/lib/python3.10/dist-packages (from matplotlib>=3.2.2->ultralytics) (3.0.9)\n",
            "Requirement already satisfied: python-dateutil>=2.7 in /usr/local/lib/python3.10/dist-packages (from matplotlib>=3.2.2->ultralytics) (2.8.2)\n",
            "Requirement already satisfied: pytz>=2020.1 in /usr/local/lib/python3.10/dist-packages (from pandas>=1.1.4->ultralytics) (2022.7.1)\n",
            "Requirement already satisfied: urllib3<1.27,>=1.21.1 in /usr/local/lib/python3.10/dist-packages (from requests>=2.23.0->ultralytics) (1.26.15)\n",
            "Requirement already satisfied: certifi>=2017.4.17 in /usr/local/lib/python3.10/dist-packages (from requests>=2.23.0->ultralytics) (2022.12.7)\n",
            "Requirement already satisfied: charset-normalizer~=2.0.0 in /usr/local/lib/python3.10/dist-packages (from requests>=2.23.0->ultralytics) (2.0.12)\n",
            "Requirement already satisfied: idna<4,>=2.5 in /usr/local/lib/python3.10/dist-packages (from requests>=2.23.0->ultralytics) (3.4)\n",
            "Requirement already satisfied: filelock in /usr/local/lib/python3.10/dist-packages (from torch>=1.7.0->ultralytics) (3.12.0)\n",
            "Requirement already satisfied: typing-extensions in /usr/local/lib/python3.10/dist-packages (from torch>=1.7.0->ultralytics) (4.5.0)\n",
            "Requirement already satisfied: sympy in /usr/local/lib/python3.10/dist-packages (from torch>=1.7.0->ultralytics) (1.11.1)\n",
            "Requirement already satisfied: networkx in /usr/local/lib/python3.10/dist-packages (from torch>=1.7.0->ultralytics) (3.1)\n",
            "Requirement already satisfied: jinja2 in /usr/local/lib/python3.10/dist-packages (from torch>=1.7.0->ultralytics) (3.1.2)\n",
            "Requirement already satisfied: triton==2.0.0 in /usr/local/lib/python3.10/dist-packages (from torch>=1.7.0->ultralytics) (2.0.0)\n",
            "Requirement already satisfied: cmake in /usr/local/lib/python3.10/dist-packages (from triton==2.0.0->torch>=1.7.0->ultralytics) (3.25.2)\n",
            "Requirement already satisfied: lit in /usr/local/lib/python3.10/dist-packages (from triton==2.0.0->torch>=1.7.0->ultralytics) (16.0.5)\n",
            "Requirement already satisfied: six>=1.5 in /usr/local/lib/python3.10/dist-packages (from python-dateutil>=2.7->matplotlib>=3.2.2->ultralytics) (1.16.0)\n",
            "Requirement already satisfied: MarkupSafe>=2.0 in /usr/local/lib/python3.10/dist-packages (from jinja2->torch>=1.7.0->ultralytics) (2.1.2)\n",
            "Requirement already satisfied: mpmath>=0.19 in /usr/local/lib/python3.10/dist-packages (from sympy->torch>=1.7.0->ultralytics) (1.3.0)\n",
            "Installing collected packages: sentry-sdk, ultralytics\n",
            "Successfully installed sentry-sdk-1.24.0 ultralytics-8.0.109\n"
          ]
        }
      ],
      "source": [
        "!pip install ultralytics"
      ]
    },
    {
      "cell_type": "code",
      "execution_count": null,
      "metadata": {
        "colab": {
          "base_uri": "https://localhost:8080/"
        },
        "id": "xfqLi3M6N8B_",
        "outputId": "557d7c78-e5a9-4e3c-cd56-7d6d68136e2b"
      },
      "outputs": [
        {
          "name": "stderr",
          "output_type": "stream",
          "text": [
            "WARNING ⚠️ Environment does not support cv2.imshow() or PIL Image.show()\n",
            "\n",
            "\n",
            "\n",
            "    WARNING ⚠️ stream/video/webcam/dir predict source will accumulate results in RAM unless `stream=True` is passed,\n",
            "    causing potential out-of-memory errors for large sources or long-running streams/videos.\n",
            "\n",
            "    Usage:\n",
            "        results = model(source=..., stream=True)  # generator of Results objects\n",
            "        for r in results:\n",
            "            boxes = r.boxes  # Boxes object for bbox outputs\n",
            "            masks = r.masks  # Masks object for segment masks outputs\n",
            "            probs = r.probs  # Class probabilities for classification outputs\n",
            "\n",
            "video 1/1 (1/100) /content/20220901_164846.mp4: 640x384 1 sheep, 854.6ms\n",
            "video 1/1 (2/100) /content/20220901_164846.mp4: 640x384 1 sheep, 6.8ms\n",
            "video 1/1 (3/100) /content/20220901_164846.mp4: 640x384 1 sheep, 7.3ms\n",
            "video 1/1 (4/100) /content/20220901_164846.mp4: 640x384 1 sheep, 5.4ms\n",
            "video 1/1 (5/100) /content/20220901_164846.mp4: 640x384 1 sheep, 6.2ms\n",
            "video 1/1 (6/100) /content/20220901_164846.mp4: 640x384 1 sheep, 5.4ms\n",
            "video 1/1 (7/100) /content/20220901_164846.mp4: 640x384 1 sheep, 11.2ms\n",
            "video 1/1 (8/100) /content/20220901_164846.mp4: 640x384 1 sheep, 6.1ms\n",
            "video 1/1 (9/100) /content/20220901_164846.mp4: 640x384 1 sheep, 7.2ms\n",
            "video 1/1 (10/100) /content/20220901_164846.mp4: 640x384 1 sheep, 8.0ms\n",
            "video 1/1 (11/100) /content/20220901_164846.mp4: 640x384 1 sheep, 7.1ms\n",
            "video 1/1 (12/100) /content/20220901_164846.mp4: 640x384 1 sheep, 6.0ms\n",
            "video 1/1 (13/100) /content/20220901_164846.mp4: 640x384 1 sheep, 9.2ms\n",
            "video 1/1 (14/100) /content/20220901_164846.mp4: 640x384 1 sheep, 7.6ms\n",
            "video 1/1 (15/100) /content/20220901_164846.mp4: 640x384 1 sheep, 7.9ms\n",
            "video 1/1 (16/100) /content/20220901_164846.mp4: 640x384 1 sheep, 5.6ms\n",
            "video 1/1 (17/100) /content/20220901_164846.mp4: 640x384 1 sheep, 6.8ms\n",
            "video 1/1 (18/100) /content/20220901_164846.mp4: 640x384 1 sheep, 5.7ms\n",
            "video 1/1 (19/100) /content/20220901_164846.mp4: 640x384 1 sheep, 6.6ms\n",
            "video 1/1 (20/100) /content/20220901_164846.mp4: 640x384 1 sheep, 6.0ms\n",
            "video 1/1 (21/100) /content/20220901_164846.mp4: 640x384 1 sheep, 19.1ms\n",
            "video 1/1 (22/100) /content/20220901_164846.mp4: 640x384 1 sheep, 6.0ms\n",
            "video 1/1 (23/100) /content/20220901_164846.mp4: 640x384 1 sheep, 9.2ms\n",
            "video 1/1 (24/100) /content/20220901_164846.mp4: 640x384 1 sheep, 13.9ms\n",
            "video 1/1 (25/100) /content/20220901_164846.mp4: 640x384 1 sheep, 11.0ms\n",
            "video 1/1 (26/100) /content/20220901_164846.mp4: 640x384 1 sheep, 8.9ms\n",
            "video 1/1 (27/100) /content/20220901_164846.mp4: 640x384 1 sheep, 12.4ms\n",
            "video 1/1 (28/100) /content/20220901_164846.mp4: 640x384 1 sheep, 7.9ms\n",
            "video 1/1 (29/100) /content/20220901_164846.mp4: 640x384 1 sheep, 17.0ms\n",
            "video 1/1 (30/100) /content/20220901_164846.mp4: 640x384 1 sheep, 21.2ms\n",
            "video 1/1 (31/100) /content/20220901_164846.mp4: 640x384 1 sheep, 12.5ms\n",
            "video 1/1 (32/100) /content/20220901_164846.mp4: 640x384 1 sheep, 7.5ms\n",
            "video 1/1 (33/100) /content/20220901_164846.mp4: 640x384 1 sheep, 8.7ms\n",
            "video 1/1 (34/100) /content/20220901_164846.mp4: 640x384 1 sheep, 11.6ms\n",
            "video 1/1 (35/100) /content/20220901_164846.mp4: 640x384 1 sheep, 7.8ms\n",
            "video 1/1 (36/100) /content/20220901_164846.mp4: 640x384 1 sheep, 12.1ms\n",
            "video 1/1 (37/100) /content/20220901_164846.mp4: 640x384 1 sheep, 7.8ms\n",
            "video 1/1 (38/100) /content/20220901_164846.mp4: 640x384 1 sheep, 11.4ms\n",
            "video 1/1 (39/100) /content/20220901_164846.mp4: 640x384 1 sheep, 9.9ms\n",
            "video 1/1 (40/100) /content/20220901_164846.mp4: 640x384 1 sheep, 8.4ms\n",
            "video 1/1 (41/100) /content/20220901_164846.mp4: 640x384 1 sheep, 16.5ms\n",
            "video 1/1 (42/100) /content/20220901_164846.mp4: 640x384 1 sheep, 8.1ms\n",
            "video 1/1 (43/100) /content/20220901_164846.mp4: 640x384 1 sheep, 9.7ms\n",
            "video 1/1 (44/100) /content/20220901_164846.mp4: 640x384 1 sheep, 7.7ms\n",
            "video 1/1 (45/100) /content/20220901_164846.mp4: 640x384 1 sheep, 7.5ms\n",
            "video 1/1 (46/100) /content/20220901_164846.mp4: 640x384 1 sheep, 7.9ms\n",
            "video 1/1 (47/100) /content/20220901_164846.mp4: 640x384 1 sheep, 17.7ms\n",
            "video 1/1 (48/100) /content/20220901_164846.mp4: 640x384 1 sheep, 10.0ms\n",
            "video 1/1 (49/100) /content/20220901_164846.mp4: 640x384 1 sheep, 14.5ms\n",
            "video 1/1 (50/100) /content/20220901_164846.mp4: 640x384 1 sheep, 8.3ms\n",
            "video 1/1 (51/100) /content/20220901_164846.mp4: 640x384 1 sheep, 11.0ms\n",
            "video 1/1 (52/100) /content/20220901_164846.mp4: 640x384 1 sheep, 7.5ms\n",
            "video 1/1 (53/100) /content/20220901_164846.mp4: 640x384 1 sheep, 11.6ms\n",
            "video 1/1 (54/100) /content/20220901_164846.mp4: 640x384 1 sheep, 28.7ms\n",
            "video 1/1 (55/100) /content/20220901_164846.mp4: 640x384 1 sheep, 9.8ms\n",
            "video 1/1 (56/100) /content/20220901_164846.mp4: 640x384 1 sheep, 12.9ms\n",
            "video 1/1 (57/100) /content/20220901_164846.mp4: 640x384 1 sheep, 7.7ms\n",
            "video 1/1 (58/100) /content/20220901_164846.mp4: 640x384 1 sheep, 13.2ms\n",
            "video 1/1 (59/100) /content/20220901_164846.mp4: 640x384 1 sheep, 7.7ms\n",
            "video 1/1 (60/100) /content/20220901_164846.mp4: 640x384 1 sheep, 12.5ms\n",
            "video 1/1 (61/100) /content/20220901_164846.mp4: 640x384 1 sheep, 10.8ms\n",
            "video 1/1 (62/100) /content/20220901_164846.mp4: 640x384 1 sheep, 12.4ms\n",
            "video 1/1 (63/100) /content/20220901_164846.mp4: 640x384 1 sheep, 17.6ms\n",
            "video 1/1 (64/100) /content/20220901_164846.mp4: 640x384 1 sheep, 11.1ms\n",
            "video 1/1 (65/100) /content/20220901_164846.mp4: 640x384 1 sheep, 18.1ms\n",
            "video 1/1 (66/100) /content/20220901_164846.mp4: 640x384 1 sheep, 8.0ms\n",
            "video 1/1 (67/100) /content/20220901_164846.mp4: 640x384 1 sheep, 10.1ms\n",
            "video 1/1 (68/100) /content/20220901_164846.mp4: 640x384 1 sheep, 8.9ms\n",
            "video 1/1 (69/100) /content/20220901_164846.mp4: 640x384 1 sheep, 21.0ms\n",
            "video 1/1 (70/100) /content/20220901_164846.mp4: 640x384 1 sheep, 10.0ms\n",
            "video 1/1 (71/100) /content/20220901_164846.mp4: 640x384 1 sheep, 11.5ms\n",
            "video 1/1 (72/100) /content/20220901_164846.mp4: 640x384 1 sheep, 21.7ms\n",
            "video 1/1 (73/100) /content/20220901_164846.mp4: 640x384 1 sheep, 10.4ms\n",
            "video 1/1 (74/100) /content/20220901_164846.mp4: 640x384 1 sheep, 9.9ms\n",
            "video 1/1 (75/100) /content/20220901_164846.mp4: 640x384 1 sheep, 11.2ms\n",
            "video 1/1 (76/100) /content/20220901_164846.mp4: 640x384 1 sheep, 10.4ms\n",
            "video 1/1 (77/100) /content/20220901_164846.mp4: 640x384 1 sheep, 10.3ms\n",
            "video 1/1 (78/100) /content/20220901_164846.mp4: 640x384 1 sheep, 9.6ms\n",
            "video 1/1 (79/100) /content/20220901_164846.mp4: 640x384 1 sheep, 11.0ms\n",
            "video 1/1 (80/100) /content/20220901_164846.mp4: 640x384 1 sheep, 11.7ms\n",
            "video 1/1 (81/100) /content/20220901_164846.mp4: 640x384 1 sheep, 14.2ms\n",
            "video 1/1 (82/100) /content/20220901_164846.mp4: 640x384 1 sheep, 10.7ms\n",
            "video 1/1 (83/100) /content/20220901_164846.mp4: 640x384 1 sheep, 11.9ms\n",
            "video 1/1 (84/100) /content/20220901_164846.mp4: 640x384 1 sheep, 12.5ms\n",
            "video 1/1 (85/100) /content/20220901_164846.mp4: 640x384 1 sheep, 11.2ms\n",
            "video 1/1 (86/100) /content/20220901_164846.mp4: 640x384 1 sheep, 10.3ms\n",
            "video 1/1 (87/100) /content/20220901_164846.mp4: 640x384 1 sheep, 9.2ms\n",
            "video 1/1 (88/100) /content/20220901_164846.mp4: 640x384 1 sheep, 34.6ms\n",
            "video 1/1 (89/100) /content/20220901_164846.mp4: 640x384 2 sheeps, 9.0ms\n",
            "video 1/1 (90/100) /content/20220901_164846.mp4: 640x384 2 sheeps, 16.0ms\n",
            "video 1/1 (91/100) /content/20220901_164846.mp4: 640x384 1 sheep, 1 cow, 9.9ms\n",
            "video 1/1 (92/100) /content/20220901_164846.mp4: 640x384 1 sheep, 8.1ms\n",
            "video 1/1 (93/100) /content/20220901_164846.mp4: 640x384 1 sheep, 6.4ms\n",
            "video 1/1 (94/100) /content/20220901_164846.mp4: 640x384 1 sheep, 7.5ms\n",
            "video 1/1 (95/100) /content/20220901_164846.mp4: 640x384 1 sheep, 6.2ms\n",
            "video 1/1 (96/100) /content/20220901_164846.mp4: 640x384 1 sheep, 6.2ms\n",
            "video 1/1 (97/100) /content/20220901_164846.mp4: 640x384 1 sheep, 6.8ms\n",
            "video 1/1 (98/100) /content/20220901_164846.mp4: 640x384 1 sheep, 8.0ms\n",
            "video 1/1 (99/100) /content/20220901_164846.mp4: 640x384 1 sheep, 7.5ms\n",
            "video 1/1 (100/100) /content/20220901_164846.mp4: 640x384 1 sheep, 7.0ms\n",
            "Speed: 3.7ms preprocess, 19.0ms inference, 2.6ms postprocess per image at shape (1, 3, 640, 640)\n"
          ]
        }
      ],
      "source": [
        "from ultralytics import YOLO\n",
        "\n",
        "# Load a model\n",
        "model = YOLO('yolov8n.pt')  # load an official detection model\n",
        "\n",
        "# Track with the model\n",
        "results = model.track(source=\"20220901_164846.mp4\", show=True, tracker=\"bytetrack.yaml\") "
      ]
    },
    {
      "cell_type": "code",
      "execution_count": null,
      "metadata": {
        "id": "OpmI25xP27_P"
      },
      "outputs": [],
      "source": [
        "results"
      ]
    },
    {
      "cell_type": "code",
      "execution_count": null,
      "metadata": {
        "colab": {
          "base_uri": "https://localhost:8080/"
        },
        "id": "hhfd9sT-2z96",
        "outputId": "62b6226f-6b84-4cfd-e1bb-f92beb948ca4"
      },
      "outputs": [
        {
          "metadata": {
            "tags": null
          },
          "name": "stderr",
          "output_type": "stream",
          "text": [
            "WARNING ⚠️ Video stream unresponsive, please check your IP camera connection.\n"
          ]
        },
        {
          "metadata": {
            "tags": null
          },
          "name": "stdout",
          "output_type": "stream",
          "text": [
            "Ultralytics YOLOv8.0.109 🚀 Python-3.10.11 torch-2.0.1+cu118 CUDA:0 (Tesla T4, 15102MiB)\n",
            "YOLOv8n summary (fused): 168 layers, 3151904 parameters, 0 gradients\n",
            "\n"
          ]
        }
      ],
      "source": [
        "!yolo track model=yolov8n.pt source=\"/content/20220901_164846.mp4\" tracker='bytetrack.yaml'"
      ]
    }
  ],
  "metadata": {
    "accelerator": "GPU",
    "colab": {
      "provenance": [],
      "authorship_tag": "ABX9TyMRQ06krMA2c/YZK882JfX3",
      "include_colab_link": true
    },
    "kernelspec": {
      "display_name": "Python 3",
      "name": "python3"
    },
    "language_info": {
      "name": "python"
    }
  },
  "nbformat": 4,
  "nbformat_minor": 0
}